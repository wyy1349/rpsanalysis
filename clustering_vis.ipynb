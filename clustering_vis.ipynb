{
 "cells": [
  {
   "cell_type": "code",
   "execution_count": 3,
   "metadata": {},
   "outputs": [],
   "source": [
    "import csv\n",
    "import pandas as pd\n",
    "import numpy as np\n",
    "import json\n",
    "#import sklearn\n",
    "from collections import Counter\n",
    "import matplotlib.pyplot as plt\n",
    "import random"
   ]
  },
  {
   "cell_type": "code",
   "execution_count": 4,
   "metadata": {},
   "outputs": [],
   "source": [
    "#Read all_winners_array.json\n",
    "with open('all_winners_array.json') as json_file:\n",
    "    all_winners_array = json.load(json_file)\n",
    "res = {\"paper\":{\"scissors\":(\"L\",\"UP\"),\"rock\":(\"W\",\"DOWN\"),\"paper\":(\"T\",\"STAY\")},\n",
    "    \"scissors\":{\"paper\":(\"W\",\"DOWN\"),\"rock\":(\"L\",\"UP\"),\"scissors\":(\"T\",\"STAY\")},\n",
    "    \"rock\":{\"paper\":(\"L\",\"UP\"),\"scissors\":(\"W\",\"DOWN\"),\"rock\":(\"T\",\"STAY\")}}\n"
   ]
  },
  {
   "cell_type": "code",
   "execution_count": 5,
   "metadata": {},
   "outputs": [],
   "source": [
    "fixed_dict = {0: 1, 1: 2, 2: 1, 3: 1, 4: 1, 5: 1, 6: 2, 7: 2, 8: 2, 9: 0, 10: 1, 11: 4, 12: 1, 13: 0, 14: 1, 15: 2, 16: 1, 17: 1, 18: 2, 19: 2, 20: 3, 21: 2, 22: 1, 23: 1, 24: 0, 25: 1, 26: 1, 27: 2, 28: 1, 29: 2}"
   ]
  },
  {
   "cell_type": "code",
   "execution_count": 6,
   "metadata": {},
   "outputs": [],
   "source": [
    "all_trans_mat = []\n",
    "for winner in all_winners_array:\n",
    "    action_dict = Counter(winner)\n",
    "    new_action_dict = {k:v/len(winner) for k, v in action_dict.items()}\n",
    "    for key in new_action_dict:\n",
    "        if 'N' in key:\n",
    "            print(winner.index(key), all_winners_array.index(winner))\n",
    "    all_trans_mat.append(new_action_dict)\n",
    "\n",
    "all_trans_mat_np = []\n",
    "for m in all_trans_mat:\n",
    "    arr = np.array([[m['WU'],m['WD'],m['WS']],[m['LU'],m['LD'],m['LS']],[m['TU'],m['TD'],m['TS']]])\n",
    "    all_trans_mat_np.append(arr)"
   ]
  },
  {
   "cell_type": "code",
   "execution_count": 7,
   "metadata": {},
   "outputs": [],
   "source": [
    "list_all = [[all_trans_mat_np[key] for key, value in fixed_dict.items() if value == i] for i in range(5)]\n",
    "av_all = [np.mean(l, axis=0) for l in list_all]\n",
    "\n",
    "av_dict_list = []\n",
    "for av in av_all:\n",
    "    av_dict = {}\n",
    "    av_dict['W'] = av[0]\n",
    "    av_dict['L'] = av[1]\n",
    "    av_dict['T'] = av[2]\n",
    "    av_dict_list.append(av_dict)\n"
   ]
  },
  {
   "cell_type": "code",
   "execution_count": 12,
   "metadata": {},
   "outputs": [],
   "source": [
    "reverseres = {\"paper\":{\"U\":\"scissors\",\"D\":\"rock\",\"S\":\"paper\"},\n",
    "                \"rock\":{\"U\":\"paper\",\"D\":\"scissors\",\"S\":\"rock\"},\n",
    "                \"scissors\":{\"U\":\"rock\",\"D\":\"paper\",\"S\":\"scissors\"}}\n",
    "\n",
    "def playernextaction(player:dict, lastaction, lastresult):\n",
    "    udsaction = random.choices((\"U\",\"D\",\"S\"),weights=player[lastresult],k=1)[0]\n",
    "    actualact = reverseres[lastaction][udsaction]\n",
    "    return actualact\n",
    "\n",
    "def compete(player1:dict, player2:dict, num_rounds:int):\n",
    "    options = (\"rock\", \"paper\", \"scissors\")\n",
    "    log = [] #each entry is (p1action, p2action, p1outcome \"WLT\", p2outcome \"WLT\")\n",
    "    p1actionlog = []\n",
    "    p2actionlog = []\n",
    "    p1outcomelog = []\n",
    "    p2outcomelog = []\n",
    "    \n",
    "    starting1 = random.choice(options)\n",
    "    starting2 = random.choice(options)\n",
    "    p1actionlog.append(starting1)\n",
    "    p2actionlog.append(starting2)\n",
    "    p1outcomelog.append(res[p1actionlog[-1]][p2actionlog[-1]][0])\n",
    "    p2outcomelog.append(res[p2actionlog[-1]][p1actionlog[-1]][0])\n",
    "\n",
    "    for i in range(num_rounds):\n",
    "        p1action = playernextaction(player1, p1actionlog[-1], p1outcomelog[-1])\n",
    "        p2action = playernextaction(player2, p2actionlog[-1], p2outcomelog[-1])\n",
    "        p1actionlog.append(p1action)\n",
    "        p2actionlog.append(p2action)\n",
    "        p1outcomelog.append(res[p1actionlog[-1]][p2actionlog[-1]][0])\n",
    "        p2outcomelog.append(res[p2actionlog[-1]][p1actionlog[-1]][0])\n",
    "    \n",
    "    log = list(zip(p1actionlog, p2actionlog, p1outcomelog, p2outcomelog))\n",
    "    return log    \n",
    "        \n",
    "def maketournament(playerlist, num_rounds):\n",
    "    num_players = len(playerlist)\n",
    "    scores = np.zeros((num_players,num_players,3))\n",
    "    for i in range(num_players):\n",
    "        for j in range(i+1,num_players):\n",
    "            log = compete(playerlist[i], playerlist[j], num_rounds)\n",
    "            p1score = (sum([1 if x[2]==\"W\" else 0 for x in log])/num_rounds, sum([1 if x[2]==\"L\" else 0 for x in log])/num_rounds, sum([1 if x[2]==\"T\" else 0 for x in log])/num_rounds)\n",
    "            p2score = (sum([1 if x[3]==\"W\" else 0 for x in log])/num_rounds, sum([1 if x[3]==\"L\" else 0 for x in log])/num_rounds, sum([1 if x[3]==\"T\" else 0 for x in log])/num_rounds)\n",
    "            scores[i,j] = p1score\n",
    "            scores[j,i] = p2score\n",
    "    return scores\n",
    "\n",
    "\n",
    "def makentournaments(playerlist, num_rounds, num_tournaments):\n",
    "    num_players = len(playerlist)\n",
    "    scoreboards = np.zeros((num_tournaments,num_players,num_players,3))\n",
    "    for i in range(num_tournaments):\n",
    "        scoreboards[i] = maketournament(playerlist, num_rounds)\n",
    "    return scoreboards\n",
    "\n",
    "scoreboards = makentournaments(av_dict_list, 1000, 200)\n",
    "tournament_avg = np.mean(scoreboards, axis=0) #shape is nxnx3"
   ]
  },
  {
   "cell_type": "code",
   "execution_count": 13,
   "metadata": {},
   "outputs": [
    {
     "data": {
      "text/plain": [
       "(array([  0.,  11.,   0.,   4.,   0., 104.,   0.,  15.,   0.,   0.]),\n",
       " array([0.25, 0.75, 1.25, 1.75, 2.25, 2.75, 3.25, 3.75, 4.25, 4.75, 5.25]),\n",
       " <BarContainer object of 10 artists>)"
      ]
     },
     "execution_count": 13,
     "metadata": {},
     "output_type": "execute_result"
    },
    {
     "data": {
      "image/png": "[encoded data removed]",
      "text/plain": [
       "<Figure size 432x288 with 1 Axes>"
      ]
     },
     "metadata": {
      "needs_background": "light"
     },
     "output_type": "display_data"
    }
   ],
   "source": [
    "s = scoreboards.shape\n",
    "best_group = []\n",
    "for i in range(s[0]):\n",
    "    trial = scoreboards[i]\n",
    "    list_of_avgs = [np.average(trial[j,:,0]) for j in range(s[1])]\n",
    "    best_group.append(list_of_avgs.index(max(list_of_avgs)))\n",
    "#Plot a histogram of the best group\n",
    "#Center the bins on the integers\n",
    "#Make bins have width 0.5\n",
    "plt.hist(best_group, bins=np.arange(0.25, 5.75, 0.5), align='mid')"
   ]
  },
  {
   "cell_type": "code",
   "execution_count": 14,
   "metadata": {},
   "outputs": [
    {
     "name": "stdout",
     "output_type": "stream",
     "text": [
      "final winboard [[0. 0. 0. 1. 1.]\n",
      " [1. 0. 1. 0. 1.]\n",
      " [1. 0. 0. 0. 1.]\n",
      " [0. 1. 1. 0. 0.]\n",
      " [0. 0. 0. 1. 0.]]\n",
      "cumulative winboard [[  0.   27.   31.  196.  180.5]\n",
      " [173.    0.  150.    0.  169. ]\n",
      " [169.   50.    0.    3.  189. ]\n",
      " [  4.  200.  197.    0.    6. ]\n",
      " [ 19.5  31.   11.  194.    0. ]]\n"
     ]
    }
   ],
   "source": [
    "\n",
    "\n",
    "#get a board of binary win/losses from the scoreboard\n",
    "#apply this to individual scoreboards to get the win/losses from individual tournaments\n",
    "#apply this to tournament average to see who beats who on average\n",
    "def winboard(scoreboard):\n",
    "    num_players = scoreboard.shape[0]\n",
    "    winboard = np.zeros((num_players,num_players))\n",
    "    for i in range(num_players):\n",
    "        for j in range(i+1,num_players):\n",
    "            if scoreboard[i,j,0] > scoreboard[j,i,0]:\n",
    "                winboard[i,j] = 1\n",
    "            elif scoreboard[i,j,0] < scoreboard[j,i,0]:\n",
    "                winboard[j,i] = 1\n",
    "            elif scoreboard[i,j,0] == scoreboard[j,i,0]:\n",
    "                winboard[i,j] = 0.5\n",
    "                winboard[j,i] = 0.5\n",
    "\n",
    "    return winboard\n",
    "\n",
    "print(\"final winboard\", winboard(tournament_avg))\n",
    "\n",
    "def cumwinboard(scoreboards):\n",
    "    num_tournaments = scoreboards.shape[0]\n",
    "    num_players = scoreboards.shape[1]\n",
    "    cumwinboard = np.zeros((num_players,num_players))\n",
    "    for i in range(num_tournaments):\n",
    "        cumwinboard += winboard(scoreboards[i])\n",
    "    return cumwinboard\n",
    "\n",
    "print(\"cumulative winboard\", cumwinboard(scoreboards))"
   ]
  },
  {
   "cell_type": "code",
   "execution_count": 15,
   "metadata": {},
   "outputs": [
    {
     "data": {
      "text/plain": [
       "<matplotlib.image.AxesImage at 0x199b92f3310>"
      ]
     },
     "execution_count": 15,
     "metadata": {},
     "output_type": "execute_result"
    },
    {
     "data": {
      "image/png": "[encoded data removed]",
      "text/plain": [
       "<Figure size 432x288 with 1 Axes>"
      ]
     },
     "metadata": {
      "needs_background": "light"
     },
     "output_type": "display_data"
    }
   ],
   "source": [
    "#Visualize the cumulative winboard\n",
    "plt.imshow(cumwinboard(scoreboards), cmap='gray', interpolation='nearest')"
   ]
  }
 ],
 "metadata": {
  "kernelspec": {
   "display_name": "Python 3",
   "language": "python",
   "name": "python3"
  },
  "language_info": {
   "codemirror_mode": {
    "name": "ipython",
    "version": 3
   },
   "file_extension": ".py",
   "mimetype": "text/x-python",
   "name": "python",
   "nbconvert_exporter": "python",
   "pygments_lexer": "ipython3",
   "version": "3.10.2"
  },
  "orig_nbformat": 4,
  "vscode": {
   "interpreter": {
    "hash": "369f2c481f4da34e4445cda3fffd2e751bd1c4d706f27375911949ba6bb62e1c"
   }
  }
 },
 "nbformat": 4,
 "nbformat_minor": 2
}
